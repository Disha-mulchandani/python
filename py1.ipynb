{
  "nbformat": 4,
  "nbformat_minor": 0,
  "metadata": {
    "colab": {
      "provenance": [],
      "include_colab_link": true
    },
    "kernelspec": {
      "name": "python3",
      "display_name": "Python 3"
    },
    "language_info": {
      "name": "python"
    }
  },
  "cells": [
    {
      "cell_type": "markdown",
      "metadata": {
        "id": "view-in-github",
        "colab_type": "text"
      },
      "source": [
        "<a href=\"https://colab.research.google.com/github/Disha-mulchandani/python/blob/main/py1.ipynb\" target=\"_parent\"><img src=\"https://colab.research.google.com/assets/colab-badge.svg\" alt=\"Open In Colab\"/></a>"
      ]
    },
    {
      "cell_type": "code",
      "execution_count": 9,
      "metadata": {
        "id": "3AjZDB-CRHqa",
        "outputId": "b291f3aa-bdf4-46c5-93b6-fdcbed94fe9e",
        "colab": {
          "base_uri": "https://localhost:8080/"
        }
      },
      "outputs": [
        {
          "output_type": "stream",
          "name": "stdout",
          "text": [
            "ample Data:\n",
            "   StudyHours  Attendance  Pass\n",
            "0           1          30     0\n",
            "1           2          40     0\n",
            "2           2          45     0\n",
            "3           3          50     0\n",
            "4           3          55     0\n",
            "\n",
            "✅ Model Accuracy: 80.00%\n",
            "\n",
            " Prediction for [4 hours study, 68% attendance]: Pass\n"
          ]
        }
      ],
      "source": [
        "import pandas as pd\n",
        "import numpy as np\n",
        "from sklearn.model_selection import train_test_split\n",
        "from sklearn.linear_model import LogisticRegression\n",
        "from sklearn.metrics import accuracy_score\n",
        "import matplotlib.pyplot as plt\n",
        "\n",
        "data = {\n",
        "    'StudyHours': [1, 2, 2, 3, 3, 4, 4, 5, 6, 6, 7, 8, 9, 10],\n",
        "    'Attendance': [30, 40, 45, 50, 55, 60, 65, 70, 75, 80, 85, 90, 95, 98],\n",
        "    'Pass': [0, 0, 0, 0, 0, 0, 1, 1, 1, 1, 1, 1, 1, 1]\n",
        "}\n",
        "\n",
        "df = pd.DataFrame(data)\n",
        "print(\"ample Data:\")\n",
        "print(df.head())\n",
        "\n",
        "\n",
        "X = df[['StudyHours', 'Attendance']]\n",
        "y = df['Pass']\n",
        "\n",
        "\n",
        "X_train, X_test, y_train, y_test = train_test_split(X, y, test_size=0.3, random_state=42)\n",
        "\n",
        "\n",
        "model = LogisticRegression()\n",
        "model.fit(X_train, y_train)\n",
        "\n",
        "\n",
        "y_pred = model.predict(X_test)\n",
        "\n",
        "\n",
        "accuracy = accuracy_score(y_test, y_pred)\n",
        "print(f\"\\n Model Accuracy: {accuracy * 100:.2f}%\")\n",
        "\n",
        "\n",
        "new_data = pd.DataFrame([[4, 68]], columns=['StudyHours', 'Attendance'])\n",
        "prediction = model.predict(new_data)\n",
        "print(\"\\n Prediction for [4 hours study, 68% attendance]:\", \"Pass\" if prediction[0] == 1 else \"Fail\")"
      ]
    }
  ]
}